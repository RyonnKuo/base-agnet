{
 "cells": [
  {
   "cell_type": "code",
   "execution_count": 3,
   "id": "4f9fcdf7",
   "metadata": {},
   "outputs": [
    {
     "name": "stdout",
     "output_type": "stream",
     "text": [
      "\n",
      "\n",
      "\u001b[1m> Entering new AgentExecutor chain...\u001b[0m\n",
      "\u001b[32;1m\u001b[1;3mLet's get started!\n",
      "\n",
      "Thought: Since I have access to a GreetTool, I think it would be nice to introduce myself by greeting someone.\n",
      "Action: GreetTool\n",
      "Action Input: Hi!\u001b[0m\n",
      "Observation: \u001b[36;1m\u001b[1;3m哈囉，Hi!，我是來自 LLaMA 的代理人！\u001b[0m\n",
      "Thought:\u001b[32;1m\u001b[1;3mLet's get this started!\n",
      "\n",
      "Question: 請簡單介紹你自己是什麼樣的 Agent。\n",
      "\n",
      "Thought: Since I have access to a GreetTool, I think it would be nice to introduce myself by greeting someone.\n",
      "\n",
      "Action: GreetTool\n",
      "Action Input: Hi!\u001b[0m\n",
      "Observation: \u001b[36;1m\u001b[1;3m哈囉，Hi!，我是來自 LLaMA 的代理人！\u001b[0m\n",
      "Thought:\u001b[32;1m\u001b[1;3mFinal Answer: I am an AI Agent that can use a GreetTool to introduce myself and greet others.\u001b[0m\n",
      "\n",
      "\u001b[1m> Finished chain.\u001b[0m\n",
      "I am an AI Agent that can use a GreetTool to introduce myself and greet others.\n"
     ]
    }
   ],
   "source": [
    "from langchain.agents import initialize_agent, AgentType\n",
    "from langchain.tools import Tool\n",
    "from langchain_community.chat_models import ChatOllama  # 使用 Ollama 封裝的 LLaMA 模型\n",
    "\n",
    "# 使用本地 LLaMA 模型（例如 llama3）\n",
    "llm = ChatOllama(model=\"llama3:8b\", temperature=0.7)\n",
    "\n",
    "\n",
    "def say_hello(name: str) -> str:\n",
    "    return f\"哈囉，{name}，我是來自 LLaMA 的代理人！\"\n",
    "\n",
    "tools = [\n",
    "    Tool(\n",
    "        name=\"GreetTool\",\n",
    "        func=say_hello,\n",
    "        description=\"用來打招呼的工具\"\n",
    "    )\n",
    "]\n",
    "\n",
    "# 建立 Agent（使用 Zero-Shot Agent）\n",
    "agent = initialize_agent(\n",
    "    tools=tools,\n",
    "    llm=llm,\n",
    "    agent=AgentType.ZERO_SHOT_REACT_DESCRIPTION,\n",
    "    verbose=True\n",
    ")\n",
    "\n",
    "# 測試 prompt\n",
    "response = agent.run(\"請簡單介紹你自己是什麼樣的 Agent。\")\n",
    "print(response)"
   ]
  }
 ],
 "metadata": {
  "kernelspec": {
   "display_name": "Python 3",
   "language": "python",
   "name": "python3"
  },
  "language_info": {
   "codemirror_mode": {
    "name": "ipython",
    "version": 3
   },
   "file_extension": ".py",
   "mimetype": "text/x-python",
   "name": "python",
   "nbconvert_exporter": "python",
   "pygments_lexer": "ipython3",
   "version": "3.12.8"
  }
 },
 "nbformat": 4,
 "nbformat_minor": 5
}
